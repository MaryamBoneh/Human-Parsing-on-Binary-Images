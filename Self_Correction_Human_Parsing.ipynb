{
  "nbformat": 4,
  "nbformat_minor": 0,
  "metadata": {
    "colab": {
      "name": "Self-Correction-Human-Parsing.ipynb",
      "provenance": []
    },
    "kernelspec": {
      "name": "python3",
      "display_name": "Python 3"
    },
    "language_info": {
      "name": "python"
    },
    "accelerator": "GPU"
  },
  "cells": [
    {
      "cell_type": "code",
      "source": [
        "from PIL import Image\n",
        "import pandas as pd\n",
        "import os, cv2\n",
        "import numpy as np"
      ],
      "metadata": {
        "id": "bQ45QDh5jf0q"
      },
      "execution_count": 1,
      "outputs": []
    },
    {
      "cell_type": "code",
      "source": [
        "!pip install Ninja"
      ],
      "metadata": {
        "id": "z5YZ9r5saZi0"
      },
      "execution_count": null,
      "outputs": []
    },
    {
      "cell_type": "code",
      "execution_count": null,
      "metadata": {
        "id": "AnuiyB88UYd9"
      },
      "outputs": [],
      "source": [
        "!git clone https://github.com/PeikeLi/Self-Correction-Human-Parsing.git"
      ]
    },
    {
      "cell_type": "code",
      "source": [
        "!git clone https://github.com/Healthcare-Robotics/bodies-at-rest.git"
      ],
      "metadata": {
        "id": "777sqDd6hgRp"
      },
      "execution_count": null,
      "outputs": []
    },
    {
      "cell_type": "code",
      "source": [
        "%cd Self-Correction-Human-Parsing"
      ],
      "metadata": {
        "id": "SuH2g2MaUdAU",
        "colab": {
          "base_uri": "https://localhost:8080/"
        },
        "outputId": "95ef5eed-1dfd-4920-ab50-ac4f56bdafd8"
      },
      "execution_count": 5,
      "outputs": [
        {
          "output_type": "stream",
          "name": "stdout",
          "text": [
            "/content/Self-Correction-Human-Parsing\n"
          ]
        }
      ]
    },
    {
      "cell_type": "code",
      "source": [
        "!mkdir input\n",
        "!mkdir output\n",
        "!mkdir dataset"
      ],
      "metadata": {
        "id": "6EPnpRFNVMn2"
      },
      "execution_count": 6,
      "outputs": []
    },
    {
      "cell_type": "code",
      "source": [
        "%cd /content/bodies-at-rest/PressurePose"
      ],
      "metadata": {
        "colab": {
          "base_uri": "https://localhost:8080/"
        },
        "id": "gjyFUwGiU_qp",
        "outputId": "6effb73d-5308-47eb-8c0d-ed740379c25b"
      },
      "execution_count": 10,
      "outputs": [
        {
          "output_type": "stream",
          "name": "stdout",
          "text": [
            "/content/bodies-at-rest/PressurePose\n"
          ]
        }
      ]
    },
    {
      "cell_type": "code",
      "source": [
        "!chmod +x download_real.sh\n",
        "!bash download_real.sh"
      ],
      "metadata": {
        "id": "focJqFhAiQoJ"
      },
      "execution_count": null,
      "outputs": []
    },
    {
      "cell_type": "code",
      "source": [
        "object = pd.read_pickle(r'/content/bodies-at-rest/data_BR/real/S103/prescribed.p')\n",
        "print(len(object['RGB']))\n",
        "print(object['RGB'][0].shape)"
      ],
      "metadata": {
        "colab": {
          "base_uri": "https://localhost:8080/"
        },
        "id": "3pkBlvug-2IW",
        "outputId": "1ef3f1a7-2f5b-4b8e-8214-c22c7ab1d11c"
      },
      "execution_count": 12,
      "outputs": [
        {
          "output_type": "stream",
          "name": "stdout",
          "text": [
            "48\n",
            "(880, 440, 3)\n"
          ]
        }
      ]
    },
    {
      "cell_type": "code",
      "source": [
        "path = \"/content/bodies-at-rest/data_BR/real/\"\n",
        "folders = os.listdir(path)\n",
        "w, h = 880, 440\n",
        "\n",
        "for i, folder in enumerate(folders):\n",
        "  object = pd.read_pickle(r'/content/bodies-at-rest/data_BR/real/'+ folder +'/prescribed.p')\n",
        "  for j in range(0, len(object['RGB'])):\n",
        "    rgb_img = np.zeros((h, w, 3), dtype=np.uint8)\n",
        "    rgb_img = object['RGB'][j]\n",
        "    rgb_img = Image.fromarray(rgb_img, 'RGB')\n",
        "    rgb_img.save(f'/content/drive/MyDrive/Datasets/Self-Correction-Human-Parsing/{i}{j}.jpg')"
      ],
      "metadata": {
        "id": "1gkvbz8qyJx0"
      },
      "execution_count": null,
      "outputs": []
    },
    {
      "cell_type": "code",
      "source": [
        "!python '/content/Self-Correction-Human-Parsing/simple_extractor.py' --dataset 'pascal' --model-restore '/content/drive/MyDrive/models/exp-schp-201908270938-pascal-person-part.pth' --input-dir '/content/drive/MyDrive/Datasets/Self-Correction-Human-Parsing' --output-dir '/content/drive/MyDrive/Datasets/Self-Correction-Human-Parsing-Segmented'"
      ],
      "metadata": {
        "colab": {
          "base_uri": "https://localhost:8080/"
        },
        "id": "TVyPAveIW8nZ",
        "outputId": "26a15113-f187-4a62-be1f-88c0a68b6c58"
      },
      "execution_count": null,
      "outputs": [
        {
          "output_type": "stream",
          "name": "stdout",
          "text": [
            "Evaluating total class number 7 with ['Background', 'Head', 'Torso', 'Upper Arms', 'Lower Arms', 'Upper Legs', 'Lower Legs']\n",
            "100% 917/917 [04:15<00:00,  3.59it/s]\n"
          ]
        }
      ]
    },
    {
      "cell_type": "code",
      "source": [
        "path = \"/content/drive/MyDrive/Datasets/Self-Correction-Human-Parsing-Segmented/\"\n",
        "segmented_images = os.listdir(path)\n",
        "\n",
        "len(segmented_images)"
      ],
      "metadata": {
        "colab": {
          "base_uri": "https://localhost:8080/"
        },
        "id": "55EI5IImXP_s",
        "outputId": "d2fa1128-af1a-4d7c-947b-265dba45dd45"
      },
      "execution_count": 13,
      "outputs": [
        {
          "output_type": "execute_result",
          "data": {
            "text/plain": [
              "917"
            ]
          },
          "metadata": {},
          "execution_count": 13
        }
      ]
    },
    {
      "cell_type": "code",
      "source": [
        "%cd /content/Self-Correction-Human-Parsing/dataset/\n",
        "!mkdir train_images\n",
        "!mkdir train_segmentation\n",
        "!mkdir val_images\n",
        "!mkdir val_segmentation"
      ],
      "metadata": {
        "id": "fSkjL6qfJVcL",
        "colab": {
          "base_uri": "https://localhost:8080/"
        },
        "outputId": "cf4d146e-2ca5-4b9d-e013-29fc9982cf36"
      },
      "execution_count": 14,
      "outputs": [
        {
          "output_type": "stream",
          "name": "stdout",
          "text": [
            "/content/Self-Correction-Human-Parsing/dataset\n"
          ]
        }
      ]
    },
    {
      "cell_type": "code",
      "source": [
        "train_id = open('train_id.txt', 'w')\n",
        "val_id = open('val_id.txt', 'w')\n",
        "\n",
        "for i ,image in enumerate(segmented_images):\n",
        "  img = cv2.imread(os.path.join(path, image))\n",
        "  img_gray = cv2.cvtColor(img, cv2.COLOR_BGR2GRAY)\n",
        "  img_gray[img_gray > 0] = 255\n",
        "  \n",
        "  if i < 800:\n",
        "    cv2.imwrite(f\"train_images/{image}\", img_gray)\n",
        "    train_id.write(f\"{image}\")\n",
        "    train_id.write('\\n')\n",
        "  else:\n",
        "    cv2.imwrite(f\"val_images/{image}\", img_gray)\n",
        "    val_id.write(f\"{image}\")\n",
        "    val_id.write('\\n')\n",
        "\n",
        "train_id.close()\n",
        "val_id.close()"
      ],
      "metadata": {
        "id": "wyu-0U9dSCUT"
      },
      "execution_count": 16,
      "outputs": []
    },
    {
      "cell_type": "code",
      "source": [
        "path = \"/content/drive/MyDrive/Datasets/Self-Correction-Human-Parsing-Segmented/\"\n",
        "segmented_images = os.listdir(path)\n",
        "\n",
        "for i, image in enumerate(segmented_images):\n",
        "  img_rgb = cv2.imread(os.path.join(path, image))\n",
        "  img_gray = cv2.cvtColor(img_rgb, cv2.COLOR_BGR2GRAY)\n",
        "\n",
        "  img_gray[img_gray == 0] = 0\n",
        "  img_gray[img_gray == 15] = 1\n",
        "  img_gray[img_gray == 38] = 2\n",
        "  img_gray[img_gray == 53] = 3\n",
        "  img_gray[img_gray == 75] = 4\n",
        "  img_gray[img_gray == 90] = 5\n",
        "  img_gray[img_gray == 113] = 6\n",
        "\n",
        "  if i < 800:\n",
        "    cv2.imwrite(f\"train_segmentation/{image}\", img_gray)\n",
        "  else:\n",
        "    cv2.imwrite(f\"val_segmentation/{image}\", img_gray)"
      ],
      "metadata": {
        "id": "x-P87X4ibHoD"
      },
      "execution_count": 19,
      "outputs": []
    },
    {
      "cell_type": "code",
      "source": [
        "!python '/content/Self-Correction-Human-Parsing/train.py' --arch 'resnet101' --batch-size 8 --cycle-epochs 10 --data-dir '/content/Self-Correction-Human-Parsing/dataset' --epochs 50 --eval-epochs 10 --imagenet-pretrain '/content/drive/MyDrive/models/exp-schp-201908270938-pascal-person-part.pth' --input-size '473,473' --learning-rate 0.01 --num-classes 7\n"
      ],
      "metadata": {
        "colab": {
          "base_uri": "https://localhost:8080/"
        },
        "id": "d8FtT-Nsewdb",
        "outputId": "517fd507-8fb4-4197-c783-f2e22cbaf1c4"
      },
      "execution_count": 28,
      "outputs": [
        {
          "output_type": "stream",
          "name": "stdout",
          "text": [
            "Namespace(arch='resnet101', batch_size=8, cycle_epochs=10, data_dir='/content/Self-Correction-Human-Parsing/dataset', epochs=50, eval_epochs=10, gpu='0,1,2', ignore_label=255, imagenet_pretrain='/content/drive/MyDrive/models/exp-schp-201908270938-pascal-person-part.pth', input_size='473,473', lambda_c=0.1, lambda_e=1, lambda_s=1, learning_rate=0.01, log_dir='./log', model_restore='./log/checkpoint.pth.tar', momentum=0.9, num_classes=7, random_mirror=False, random_scale=False, schp_restore='./log/schp_checkpoint.pth.tar', schp_start=100, start_epoch=0, weight_decay=0.0005)\n",
            "Traceback (most recent call last):\n",
            "  File \"/content/Self-Correction-Human-Parsing/train.py\", line 231, in <module>\n",
            "    main()\n",
            "  File \"/content/Self-Correction-Human-Parsing/train.py\", line 94, in main\n",
            "    AugmentCE2P = networks.init_model(args.arch, num_classes=args.num_classes, pretrained=args.imagenet_pretrain)\n",
            "  File \"/content/Self-Correction-Human-Parsing/networks/__init__.py\", line 13, in init_model\n",
            "    return __factory[name](*args, **kwargs)\n",
            "  File \"/content/Self-Correction-Human-Parsing/networks/AugmentCE2P.py\", line 336, in resnet101\n",
            "    initialize_pretrained_model(model, settings, pretrained)\n",
            "  File \"/content/Self-Correction-Human-Parsing/networks/AugmentCE2P.py\", line 330, in initialize_pretrained_model\n",
            "    model.load_state_dict(new_params)\n",
            "  File \"/usr/local/lib/python3.7/dist-packages/torch/nn/modules/module.py\", line 1483, in load_state_dict\n",
            "    self.__class__.__name__, \"\\n\\t\".join(error_msgs)))\n",
            "RuntimeError: Error(s) in loading state_dict for ResNet:\n",
            "\tUnexpected key(s) in state_dict: \"state_dict\". \n"
          ]
        }
      ]
    }
  ]
}