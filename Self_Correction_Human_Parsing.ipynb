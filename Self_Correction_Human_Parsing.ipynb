{
  "nbformat": 4,
  "nbformat_minor": 0,
  "metadata": {
    "colab": {
      "name": "Untitled18.ipynb",
      "provenance": [],
      "collapsed_sections": []
    },
    "kernelspec": {
      "name": "python3",
      "display_name": "Python 3"
    },
    "language_info": {
      "name": "python"
    },
    "accelerator": "GPU"
  },
  "cells": [
    {
      "cell_type": "code",
      "execution_count": 8,
      "metadata": {
        "id": "bQ45QDh5jf0q"
      },
      "outputs": [],
      "source": [
        "from PIL import Image\n",
        "import pandas as pd\n",
        "import os, cv2\n",
        "import numpy as np"
      ]
    },
    {
      "cell_type": "code",
      "execution_count": null,
      "metadata": {
        "id": "z5YZ9r5saZi0"
      },
      "outputs": [],
      "source": [
        "!pip install Ninja"
      ]
    },
    {
      "cell_type": "code",
      "execution_count": null,
      "metadata": {
        "id": "AnuiyB88UYd9"
      },
      "outputs": [],
      "source": [
        "!git clone https://github.com/PeikeLi/Self-Correction-Human-Parsing.git"
      ]
    },
    {
      "cell_type": "code",
      "execution_count": null,
      "metadata": {
        "id": "777sqDd6hgRp"
      },
      "outputs": [],
      "source": [
        "!git clone https://github.com/Healthcare-Robotics/bodies-at-rest.git"
      ]
    },
    {
      "cell_type": "code",
      "execution_count": null,
      "metadata": {
        "id": "q8jfCufAACOd"
      },
      "outputs": [],
      "source": [
        "!mkdir Self-Correction-Human-Parsing-Segmented-Dataset\n",
        "!mkdir Self-Correction-Human-Parsing-Dataset"
      ]
    },
    {
      "cell_type": "code",
      "execution_count": 13,
      "metadata": {
        "colab": {
          "base_uri": "https://localhost:8080/"
        },
        "id": "SuH2g2MaUdAU",
        "outputId": "a211a2e3-2dc4-4201-f6e3-ba232972f21a"
      },
      "outputs": [
        {
          "output_type": "stream",
          "name": "stdout",
          "text": [
            "/content/Self-Correction-Human-Parsing\n"
          ]
        }
      ],
      "source": [
        "%cd Self-Correction-Human-Parsing"
      ]
    },
    {
      "cell_type": "code",
      "execution_count": 14,
      "metadata": {
        "id": "6EPnpRFNVMn2"
      },
      "outputs": [],
      "source": [
        "!mkdir input\n",
        "!mkdir output\n",
        "!mkdir dataset"
      ]
    },
    {
      "cell_type": "code",
      "execution_count": 15,
      "metadata": {
        "colab": {
          "base_uri": "https://localhost:8080/"
        },
        "id": "gjyFUwGiU_qp",
        "outputId": "7566d250-f4dd-4fb2-8b78-b925294aac93"
      },
      "outputs": [
        {
          "output_type": "stream",
          "name": "stdout",
          "text": [
            "/content/bodies-at-rest/PressurePose\n"
          ]
        }
      ],
      "source": [
        "%cd /content/bodies-at-rest/PressurePose"
      ]
    },
    {
      "cell_type": "code",
      "execution_count": null,
      "metadata": {
        "id": "focJqFhAiQoJ"
      },
      "outputs": [],
      "source": [
        "!chmod +x download_real.sh\n",
        "!bash download_real.sh"
      ]
    },
    {
      "cell_type": "code",
      "execution_count": 18,
      "metadata": {
        "id": "3pkBlvug-2IW",
        "colab": {
          "base_uri": "https://localhost:8080/"
        },
        "outputId": "d0e4e713-d632-4f4c-c4c7-2d559e1ceffb"
      },
      "outputs": [
        {
          "output_type": "stream",
          "name": "stdout",
          "text": [
            "48\n",
            "(880, 440, 3)\n"
          ]
        }
      ],
      "source": [
        "object = pd.read_pickle(r'/content/bodies-at-rest/data_BR/real/S103/prescribed.p')\n",
        "print(len(object['RGB']))\n",
        "print(object['RGB'][0].shape)"
      ]
    },
    {
      "cell_type": "code",
      "execution_count": 19,
      "metadata": {
        "id": "1gkvbz8qyJx0"
      },
      "outputs": [],
      "source": [
        "path = \"/content/bodies-at-rest/data_BR/real/\"\n",
        "folders = os.listdir(path)\n",
        "w, h = 880, 440\n",
        "\n",
        "for i, folder in enumerate(folders):\n",
        "  object = pd.read_pickle(r'/content/bodies-at-rest/data_BR/real/'+ folder +'/prescribed.p')\n",
        "  for j in range(0, len(object['RGB'])):\n",
        "    rgb_img = np.zeros((h, w, 3), dtype=np.uint8)\n",
        "    rgb_img = object['RGB'][j]\n",
        "    rgb_img = Image.fromarray(rgb_img, 'RGB')\n",
        "    rgb_img.save(f'/content/Self-Correction-Human-Parsing-Dataset/{i}{j}.jpg')"
      ]
    },
    {
      "cell_type": "code",
      "execution_count": 20,
      "metadata": {
        "colab": {
          "base_uri": "https://localhost:8080/"
        },
        "id": "TVyPAveIW8nZ",
        "outputId": "16aed7b8-58fb-496e-fafd-528a756cf2e7"
      },
      "outputs": [
        {
          "output_type": "stream",
          "name": "stdout",
          "text": [
            "Evaluating total class number 7 with ['Background', 'Head', 'Torso', 'Upper Arms', 'Lower Arms', 'Upper Legs', 'Lower Legs']\n",
            "100% 914/914 [03:59<00:00,  3.82it/s]\n"
          ]
        }
      ],
      "source": [
        "!python '/content/Self-Correction-Human-Parsing/simple_extractor.py' --dataset 'pascal' --model-restore '/content/drive/MyDrive/models/exp-schp-201908270938-pascal-person-part.pth' --input-dir '/content/Self-Correction-Human-Parsing-Dataset' --output-dir '/content/Self-Correction-Human-Parsing-Segmented-Dataset'"
      ]
    },
    {
      "cell_type": "code",
      "execution_count": 21,
      "metadata": {
        "colab": {
          "base_uri": "https://localhost:8080/"
        },
        "id": "55EI5IImXP_s",
        "outputId": "8098a990-3ebc-4a94-e7ea-7f5936b5255c"
      },
      "outputs": [
        {
          "output_type": "execute_result",
          "data": {
            "text/plain": [
              "914"
            ]
          },
          "metadata": {},
          "execution_count": 21
        }
      ],
      "source": [
        "path = \"/content/Self-Correction-Human-Parsing-Segmented-Dataset/\"\n",
        "segmented_images = os.listdir(path)\n",
        "\n",
        "len(segmented_images)"
      ]
    },
    {
      "cell_type": "code",
      "execution_count": 22,
      "metadata": {
        "colab": {
          "base_uri": "https://localhost:8080/"
        },
        "id": "fSkjL6qfJVcL",
        "outputId": "dc047542-047f-4ae1-eb39-8aba896474fc"
      },
      "outputs": [
        {
          "output_type": "stream",
          "name": "stdout",
          "text": [
            "/content/Self-Correction-Human-Parsing/dataset\n"
          ]
        }
      ],
      "source": [
        "%cd /content/Self-Correction-Human-Parsing/dataset/\n",
        "!mkdir train_images\n",
        "!mkdir train_segmentations\n",
        "!mkdir val_images\n",
        "!mkdir val_segmentations"
      ]
    },
    {
      "cell_type": "code",
      "execution_count": 23,
      "metadata": {
        "id": "wyu-0U9dSCUT"
      },
      "outputs": [],
      "source": [
        "train_id = open('train_id.txt', 'w')\n",
        "val_id = open('val_id.txt', 'w')\n",
        "\n",
        "for i ,image in enumerate(segmented_images):\n",
        "  img = cv2.imread(os.path.join(path, image))\n",
        "  img_gray = cv2.cvtColor(img, cv2.COLOR_BGR2GRAY)\n",
        "  img_gray[img_gray > 0] = 255\n",
        "  img_gray[img_gray == 0] = 0\n",
        "  image_name = image.split('.')[0]\n",
        "  if i < 800:\n",
        "    cv2.imwrite(f\"train_images/{image_name}.jpg\", img_gray)\n",
        "    train_id.write(f\"{image_name}\")\n",
        "    train_id.write('\\n')\n",
        "  else:\n",
        "    cv2.imwrite(f\"val_images/{image_name}.jpg\", img_gray)\n",
        "    val_id.write(f\"{image_name}\")\n",
        "    val_id.write('\\n')\n",
        "\n",
        "train_id.close()\n",
        "val_id.close()"
      ]
    },
    {
      "cell_type": "code",
      "execution_count": 24,
      "metadata": {
        "id": "x-P87X4ibHoD"
      },
      "outputs": [],
      "source": [
        "path = \"/content/Self-Correction-Human-Parsing-Segmented-Dataset/\"\n",
        "segmented_images = os.listdir(path)\n",
        "\n",
        "for i, image in enumerate(segmented_images):\n",
        "  img_rgb = cv2.imread(os.path.join(path, image))\n",
        "  img_gray = cv2.cvtColor(img_rgb, cv2.COLOR_BGR2GRAY)\n",
        "\n",
        "  img_gray[img_gray == 0] = 0\n",
        "  img_gray[img_gray == 15] = 1\n",
        "  img_gray[img_gray == 38] = 2\n",
        "  img_gray[img_gray == 53] = 3\n",
        "  img_gray[img_gray == 75] = 4\n",
        "  img_gray[img_gray == 90] = 5\n",
        "  img_gray[img_gray == 113] = 6\n",
        "\n",
        "  if i < 800:\n",
        "    cv2.imwrite(f\"train_segmentations/{image}\", img_gray)\n",
        "  else:\n",
        "    cv2.imwrite(f\"val_segmentations/{image}\", img_gray)"
      ]
    },
    {
      "cell_type": "code",
      "execution_count": 25,
      "metadata": {
        "colab": {
          "base_uri": "https://localhost:8080/"
        },
        "id": "BGe1yKSapal7",
        "outputId": "2baacaed-29bc-4343-95e4-ca91a2cc115a"
      },
      "outputs": [
        {
          "output_type": "stream",
          "name": "stdout",
          "text": [
            "/content/Self-Correction-Human-Parsing\n"
          ]
        }
      ],
      "source": [
        "%cd /content/Self-Correction-Human-Parsing/\n",
        "!mkdir pretrain_model"
      ]
    },
    {
      "cell_type": "code",
      "execution_count": 26,
      "metadata": {
        "colab": {
          "base_uri": "https://localhost:8080/",
          "height": 107
        },
        "id": "bAaGQ0oZyBqe",
        "outputId": "ee7d9516-8ffb-4fe8-db53-031de87b715c"
      },
      "outputs": [
        {
          "output_type": "stream",
          "name": "stderr",
          "text": [
            "Downloading...\n",
            "From: http://sceneparsing.csail.mit.edu/model/pretrained_resnet/resnet101-imagenet.pth\n",
            "To: /content/Self-Correction-Human-Parsing/pretrain_model/resnet101-imagenet.pth\n",
            "100%|██████████| 179M/179M [00:02<00:00, 62.9MB/s]\n"
          ]
        },
        {
          "output_type": "execute_result",
          "data": {
            "text/plain": [
              "'/content/Self-Correction-Human-Parsing/pretrain_model/resnet101-imagenet.pth'"
            ],
            "application/vnd.google.colaboratory.intrinsic+json": {
              "type": "string"
            }
          },
          "metadata": {},
          "execution_count": 26
        }
      ],
      "source": [
        "import gdown\n",
        "\n",
        "url = \"http://sceneparsing.csail.mit.edu/model/pretrained_resnet/resnet101-imagenet.pth\"\n",
        "out = \"/content/Self-Correction-Human-Parsing/pretrain_model/resnet101-imagenet.pth\"\n",
        "gdown.download(url, out) "
      ]
    },
    {
      "cell_type": "code",
      "execution_count": null,
      "metadata": {
        "id": "d8FtT-Nsewdb"
      },
      "outputs": [],
      "source": [
        "!python '/content/Self-Correction-Human-Parsing/train.py' --batch-size 8 --data-dir '/content/Self-Correction-Human-Parsing/dataset' --epochs 10 --num-classes 7"
      ]
    }
  ]
}