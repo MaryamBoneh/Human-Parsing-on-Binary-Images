{
  "nbformat": 4,
  "nbformat_minor": 0,
  "metadata": {
    "colab": {
      "name": "Self-Correction-Human-Parsing.ipynb",
      "provenance": []
    },
    "kernelspec": {
      "name": "python3",
      "display_name": "Python 3"
    },
    "language_info": {
      "name": "python"
    },
    "accelerator": "GPU"
  },
  "cells": [
    {
      "cell_type": "code",
      "source": [
        "!pip install Ninja"
      ],
      "metadata": {
        "id": "z5YZ9r5saZi0"
      },
      "execution_count": null,
      "outputs": []
    },
    {
      "cell_type": "code",
      "execution_count": null,
      "metadata": {
        "id": "AnuiyB88UYd9"
      },
      "outputs": [],
      "source": [
        "!git clone https://github.com/PeikeLi/Self-Correction-Human-Parsing.git"
      ]
    },
    {
      "cell_type": "code",
      "source": [
        "!git clone https://github.com/Healthcare-Robotics/bodies-at-rest.git"
      ],
      "metadata": {
        "id": "777sqDd6hgRp"
      },
      "execution_count": null,
      "outputs": []
    },
    {
      "cell_type": "code",
      "source": [
        "%cd Self-Correction-Human-Parsing"
      ],
      "metadata": {
        "id": "SuH2g2MaUdAU"
      },
      "execution_count": null,
      "outputs": []
    },
    {
      "cell_type": "code",
      "source": [
        "!mkdir input\n",
        "!mkdir output"
      ],
      "metadata": {
        "id": "6EPnpRFNVMn2"
      },
      "execution_count": 5,
      "outputs": []
    },
    {
      "cell_type": "code",
      "source": [
        "%cd ..\n",
        "%cd /content/bodies-at-rest/PressurePose"
      ],
      "metadata": {
        "id": "Km6VAI0AuRjb"
      },
      "execution_count": null,
      "outputs": []
    },
    {
      "cell_type": "code",
      "source": [
        "!chmod +x download_real.sh\n",
        "!bash download_real.sh"
      ],
      "metadata": {
        "id": "focJqFhAiQoJ"
      },
      "execution_count": null,
      "outputs": []
    },
    {
      "cell_type": "code",
      "source": [
        "import pandas as pd\n",
        "\n",
        "object = pd.read_pickle(r'/content/bodies-at-rest/data_BR/real/S103/prescribed.p')"
      ],
      "metadata": {
        "id": "bQ45QDh5jf0q"
      },
      "execution_count": 22,
      "outputs": []
    },
    {
      "cell_type": "code",
      "source": [
        "from PIL import Image\n",
        "import numpy as np\n",
        "\n",
        "w, h = 880, 440\n",
        "data = np.zeros((h, w, 3), dtype=np.uint8)\n",
        "data = object['RGB'][0]\n",
        "img = Image.fromarray(data, 'RGB')\n",
        "img.save('my.png')\n",
        "img.show()"
      ],
      "metadata": {
        "id": "WVjl5W1V5OCw"
      },
      "execution_count": 28,
      "outputs": []
    },
    {
      "cell_type": "code",
      "source": [
        "object['RGB'][0].shape"
      ],
      "metadata": {
        "colab": {
          "base_uri": "https://localhost:8080/"
        },
        "id": "7ZgaulvnmE05",
        "outputId": "593891ff-cec4-493c-c7c8-b6d4aac7078f"
      },
      "execution_count": 27,
      "outputs": [
        {
          "output_type": "execute_result",
          "data": {
            "text/plain": [
              "(880, 440, 3)"
            ]
          },
          "metadata": {},
          "execution_count": 27
        }
      ]
    },
    {
      "cell_type": "code",
      "source": [
        "!python '/content/Self-Correction-Human-Parsing/simple_extractor.py' --dataset 'pascal' --model-restore '/content/drive/MyDrive/models/exp-schp-201908270938-pascal-person-part.pth' --input-dir '/content/Self-Correction-Human-Parsing/input/' --output-dir '/content/Self-Correction-Human-Parsing/output'"
      ],
      "metadata": {
        "colab": {
          "base_uri": "https://localhost:8080/"
        },
        "id": "TVyPAveIW8nZ",
        "outputId": "d10dcadd-c915-462c-94e6-d6f1b5345fd8"
      },
      "execution_count": 30,
      "outputs": [
        {
          "output_type": "stream",
          "name": "stdout",
          "text": [
            "Evaluating total class number 7 with ['Background', 'Head', 'Torso', 'Upper Arms', 'Lower Arms', 'Upper Legs', 'Lower Legs']\n",
            "100% 1/1 [00:00<00:00,  2.17it/s]\n"
          ]
        }
      ]
    },
    {
      "cell_type": "code",
      "source": [
        ""
      ],
      "metadata": {
        "id": "fSkjL6qfJVcL"
      },
      "execution_count": null,
      "outputs": []
    }
  ]
}